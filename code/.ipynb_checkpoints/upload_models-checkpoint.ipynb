{
 "cells": [
  {
   "cell_type": "code",
   "execution_count": 225,
   "metadata": {
    "colab": {
     "base_uri": "https://localhost:8080/"
    },
    "id": "jpHw34V_1-Nk",
    "outputId": "84cd2bdc-f4e1-4e1b-923a-b3422e75d9ba"
   },
   "outputs": [],
   "source": [
    "# from google.colab import drive\n",
    "# drive.mount('/content/drive')"
   ]
  },
  {
   "cell_type": "code",
   "execution_count": 2,
   "metadata": {
    "colab": {
     "base_uri": "https://localhost:8080/"
    },
    "id": "7j29gZA_2S6D",
    "outputId": "df6fa137-7a1a-4470-cac0-d9043683dfb2"
   },
   "outputs": [],
   "source": [
    "# ! pip install requests\n",
    "# ! pip install tabulate\n",
    "# ! pip install future\n",
    "# ! pip install -f http://h2o-release.s3.amazonaws.com/h2o/latest_stable_Py.html h2o"
   ]
  },
  {
   "cell_type": "code",
   "execution_count": 16,
   "metadata": {},
   "outputs": [],
   "source": [
    "def report_rmse(tr, ts, comp, y_tr, y_ts):\n",
    "    print(\"train rmse: %s,\\ntest rmse: %s\" % \n",
    "          ( mean_squared_error( tr[comp] , y_tr , squared=False ) ,\n",
    "          mean_squared_error( ts[comp] , y_ts , squared=False )  )\n",
    "         )"
   ]
  },
  {
   "cell_type": "code",
   "execution_count": 169,
   "metadata": {},
   "outputs": [],
   "source": [
    "def graph_tr_ts(df_train, df_test, y_hat_train, y_hat_test, comp):\n",
    "    fig, ((ax1, ax2))=  plt.subplots(1, 2, sharex=False, sharey= False, figsize=(15,10),gridspec_kw=dict( wspace=0.3,hspace=0.35))\n",
    "    ax1.scatter(y = df_train[comp] , x = y_hat_train )\n",
    "    ax1.set_title(\"Train data set - \"+ comp ,size=15)\n",
    "    ax1.set_xlabel('Predictions',size=15)\n",
    "    ax1.set_ylabel('Real values',size=15)\n",
    "    \n",
    "    ax2.scatter(y = df_test[comp] , x = y_hat_test )\n",
    "    ax2.set_title(\"Test data set - \"+ comp ,size=15)\n",
    "    ax2.set_xlabel('Predictions',size=15)\n",
    "    ax2.set_ylabel('Real values',size=15)\n",
    "    plt.savefig('../plots/svm/almonds/XGB_train_test_'+comp+'.png', bbox_inches='tight', dpi=100)"
   ]
  },
  {
   "cell_type": "code",
   "execution_count": 3,
   "metadata": {
    "colab": {
     "base_uri": "https://localhost:8080/",
     "height": 528
    },
    "id": "aJfmfcfE2Xc_",
    "outputId": "8e65b155-4c5a-4954-d7c9-2c32502c220e"
   },
   "outputs": [
    {
     "name": "stdout",
     "output_type": "stream",
     "text": [
      "Checking whether there is an H2O instance running at http://localhost:54321 ..... not found.\n",
      "Attempting to start a local H2O server...\n",
      "  Java Version: openjdk version \"1.8.0_312\"; OpenJDK Runtime Environment (build 1.8.0_312-8u312-b07-0ubuntu1~20.04-b07); OpenJDK 64-Bit Server VM (build 25.312-b07, mixed mode)\n",
      "  Starting server from /home/user/.local/lib/python3.8/site-packages/h2o/backend/bin/h2o.jar\n",
      "  Ice root: /tmp/tmpkv2f38pg\n",
      "  JVM stdout: /tmp/tmpkv2f38pg/h2o_user_started_from_python.out\n",
      "  JVM stderr: /tmp/tmpkv2f38pg/h2o_user_started_from_python.err\n",
      "  Server is running at http://127.0.0.1:54321\n",
      "Connecting to H2O server at http://127.0.0.1:54321 ... successful.\n"
     ]
    },
    {
     "data": {
      "text/html": [
       "<div style=\"overflow:auto\"><table style=\"width:50%\"><tr><td>H2O_cluster_uptime:</td>\n",
       "<td>01 secs</td></tr>\n",
       "<tr><td>H2O_cluster_timezone:</td>\n",
       "<td>America/Guayaquil</td></tr>\n",
       "<tr><td>H2O_data_parsing_timezone:</td>\n",
       "<td>UTC</td></tr>\n",
       "<tr><td>H2O_cluster_version:</td>\n",
       "<td>3.34.0.3</td></tr>\n",
       "<tr><td>H2O_cluster_version_age:</td>\n",
       "<td>2 months and 16 days </td></tr>\n",
       "<tr><td>H2O_cluster_name:</td>\n",
       "<td>H2O_from_python_user_baqu0x</td></tr>\n",
       "<tr><td>H2O_cluster_total_nodes:</td>\n",
       "<td>1</td></tr>\n",
       "<tr><td>H2O_cluster_free_memory:</td>\n",
       "<td>2.577 Gb</td></tr>\n",
       "<tr><td>H2O_cluster_total_cores:</td>\n",
       "<td>8</td></tr>\n",
       "<tr><td>H2O_cluster_allowed_cores:</td>\n",
       "<td>8</td></tr>\n",
       "<tr><td>H2O_cluster_status:</td>\n",
       "<td>locked, healthy</td></tr>\n",
       "<tr><td>H2O_connection_url:</td>\n",
       "<td>http://127.0.0.1:54321</td></tr>\n",
       "<tr><td>H2O_connection_proxy:</td>\n",
       "<td>{\"http\": null, \"https\": null}</td></tr>\n",
       "<tr><td>H2O_internal_security:</td>\n",
       "<td>False</td></tr>\n",
       "<tr><td>H2O_API_Extensions:</td>\n",
       "<td>Amazon S3, XGBoost, Algos, AutoML, Core V3, TargetEncoder, Core V4</td></tr>\n",
       "<tr><td>Python_version:</td>\n",
       "<td>3.8.10 final</td></tr></table></div>"
      ],
      "text/plain": [
       "--------------------------  ------------------------------------------------------------------\n",
       "H2O_cluster_uptime:         01 secs\n",
       "H2O_cluster_timezone:       America/Guayaquil\n",
       "H2O_data_parsing_timezone:  UTC\n",
       "H2O_cluster_version:        3.34.0.3\n",
       "H2O_cluster_version_age:    2 months and 16 days\n",
       "H2O_cluster_name:           H2O_from_python_user_baqu0x\n",
       "H2O_cluster_total_nodes:    1\n",
       "H2O_cluster_free_memory:    2.577 Gb\n",
       "H2O_cluster_total_cores:    8\n",
       "H2O_cluster_allowed_cores:  8\n",
       "H2O_cluster_status:         locked, healthy\n",
       "H2O_connection_url:         http://127.0.0.1:54321\n",
       "H2O_connection_proxy:       {\"http\": null, \"https\": null}\n",
       "H2O_internal_security:      False\n",
       "H2O_API_Extensions:         Amazon S3, XGBoost, Algos, AutoML, Core V3, TargetEncoder, Core V4\n",
       "Python_version:             3.8.10 final\n",
       "--------------------------  ------------------------------------------------------------------"
      ]
     },
     "metadata": {},
     "output_type": "display_data"
    }
   ],
   "source": [
    "import h2o\n",
    "h2o.init(nthreads= -1)"
   ]
  },
  {
   "cell_type": "code",
   "execution_count": 162,
   "metadata": {
    "id": "Ao-TepWb2JWW"
   },
   "outputs": [],
   "source": [
    "import pandas as pd\n",
    "import matplotlib.pyplot as plt\n",
    "from sklearn.metrics import mean_squared_error\n",
    "import pickle\n",
    "import os"
   ]
  },
  {
   "cell_type": "markdown",
   "metadata": {
    "id": "h8PoS1AtzE_Z"
   },
   "source": [
    "# AL"
   ]
  },
  {
   "cell_type": "code",
   "execution_count": 159,
   "metadata": {
    "colab": {
     "base_uri": "https://localhost:8080/"
    },
    "id": "raiwWFqizIOA",
    "outputId": "3c9438e1-2758-40a0-9163-4898440acdec"
   },
   "outputs": [
    {
     "name": "stdout",
     "output_type": "stream",
     "text": [
      "Parse progress: |████████████████████████████████████████████████████████████████| (done) 100%\n",
      "Parse progress: |████████████████████████████████████████████████████████████████| (done) 100%\n"
     ]
    }
   ],
   "source": [
    "df = pd.read_csv('../dataset_by_component/almonds/data_final_Na.csv',sep=';').iloc[:,2:]\n",
    "df_train = df[df.id_train == 1].loc[ : , df.columns != 'id_train']\n",
    "df_test = df[df.id_train == 0].loc[ : , df.columns != 'id_train']\n",
    "h2o_train = h2o.H2OFrame(df_train)\n",
    "h2o_test = h2o.H2OFrame(df_test)"
   ]
  },
  {
   "cell_type": "code",
   "execution_count": 161,
   "metadata": {
    "id": "WmBKBknl2txB"
   },
   "outputs": [],
   "source": [
    "v1 = h2o.load_model('../models/xgb/leaves/S/Grid_XGBoost_Key_Frame__upload_82b4e96134fa5604923ee51068ba46a0.hex_model_python_1639868109839_5_model_7')"
   ]
  },
  {
   "cell_type": "code",
   "execution_count": 156,
   "metadata": {
    "colab": {
     "base_uri": "https://localhost:8080/"
    },
    "id": "ev1Zfykp27Om",
    "outputId": "97caee12-453e-4c1f-e349-8053ba9426dd"
   },
   "outputs": [
    {
     "name": "stdout",
     "output_type": "stream",
     "text": [
      "xgboost prediction progress: |███████████████████████████████████████████████████| (done) 100%\n",
      "xgboost prediction progress: |███████████████████████████████████████████████████| (done) 100%\n"
     ]
    }
   ],
   "source": [
    "y_hat_train = v1.predict(h2o_train).as_data_frame()\n",
    "y_hat_test = v1.predict(h2o_test).as_data_frame()"
   ]
  },
  {
   "cell_type": "code",
   "execution_count": 157,
   "metadata": {},
   "outputs": [
    {
     "name": "stdout",
     "output_type": "stream",
     "text": [
      "train rmse: 69.03351887203858,\n",
      "test rmse: 80.08099734557152\n"
     ]
    }
   ],
   "source": [
    "report_rmse( df_train, df_test, 'Zn', y_hat_train, y_hat_test)"
   ]
  },
  {
   "cell_type": "code",
   "execution_count": 158,
   "metadata": {},
   "outputs": [
    {
     "data": {
      "image/png": "[encoded data removed]",
      "text/plain": [
       "<Figure size 1080x720 with 2 Axes>"
      ]
     },
     "metadata": {
      "needs_background": "light"
     },
     "output_type": "display_data"
    }
   ],
   "source": [
    "graph_tr_ts(df_train, df_test, y_hat_train, y_hat_test,'Zn')"
   ]
  },
  {
   "cell_type": "code",
   "execution_count": 164,
   "metadata": {},
   "outputs": [],
   "source": [
    "def test_train_sets( df_train_wo_scaled, df_test_wo_scaled, comp):\n",
    "    train_x_wo_scal, train_y_wo_scal, test_x_wo_scal, test_y_wo_scal = df_train_wo_scaled.loc[:,df_train_wo_scaled.columns != comp ].values, df_train_wo_scaled.loc[:,df_train_wo_scaled.columns == comp ].values,df_test_wo_scaled.loc[:,df_test_wo_scaled.columns != comp ].values,df_test_wo_scaled.loc[:,df_test_wo_scaled.columns == comp].values     \n",
    "    train_y_wo_scal = train_y_wo_scal.flatten()\n",
    "    test_y_wo_scal = test_y_wo_scal.flatten()\n",
    "    return train_x_wo_scal, train_y_wo_scal, test_x_wo_scal, test_y_wo_scal"
   ]
  },
  {
   "cell_type": "markdown",
   "metadata": {},
   "source": [
    "# h5 files svm"
   ]
  },
  {
   "cell_type": "code",
   "execution_count": 221,
   "metadata": {},
   "outputs": [],
   "source": [
    "df = pd.read_csv('../dataset_by_component/almonds/data_final_Pb.csv', sep=';').iloc[:,2:]\n",
    "id_train = df.id_train\n",
    "df = df.iloc[:,df.columns != 'id_train']\n",
    "df_train_wo_scaled = df[id_train == 1]\n",
    "df_test_wo_scaled = df[id_train == 0]\n",
    "\n",
    "train_x_wo_scal, train_y_wo_scal, test_x_wo_scal, test_y_wo_scal = test_train_sets( df_train_wo_scaled, df_test_wo_scaled, 'Pb')"
   ]
  },
  {
   "cell_type": "code",
   "execution_count": 308,
   "metadata": {},
   "outputs": [],
   "source": [
    "Pkl_Filename = '../models/svm/almonds/Pb/svm_best_Pb.h5'\n",
    "with open(Pkl_Filename, 'rb') as file:  \n",
    "    v1 = pickle.load(file)"
   ]
  },
  {
   "cell_type": "code",
   "execution_count": 223,
   "metadata": {},
   "outputs": [],
   "source": [
    "y_hat_train = v1.predict(train_x_wo_scal)\n",
    "y_hat_test = v1.predict(test_x_wo_scal)"
   ]
  },
  {
   "cell_type": "code",
   "execution_count": 224,
   "metadata": {},
   "outputs": [
    {
     "data": {
      "image/png": "[encoded data removed]",
      "text/plain": [
       "<Figure size 1080x720 with 2 Axes>"
      ]
     },
     "metadata": {
      "needs_background": "light"
     },
     "output_type": "display_data"
    }
   ],
   "source": [
    "graph_tr_ts(df_train_wo_scaled , df_test_wo_scaled, y_hat_train, y_hat_test,'Pb')"
   ]
  },
  {
   "cell_type": "code",
   "execution_count": null,
   "metadata": {},
   "outputs": [],
   "source": []
  },
  {
   "cell_type": "markdown",
   "metadata": {},
   "source": [
    "# Report Parameters"
   ]
  },
  {
   "cell_type": "markdown",
   "metadata": {},
   "source": [
    "## h2o"
   ]
  },
  {
   "cell_type": "code",
   "execution_count": 304,
   "metadata": {},
   "outputs": [],
   "source": [
    "component = []\n",
    "result_mod = []\n",
    "for co in os.listdir('../models/xgb/leaves/'):\n",
    "    #print(os.listdir('../models/xgb/almonds/'+co) )\n",
    "    fold = '../models/xgb/leaves/'+co+'/'\n",
    "    ls_mod = os.listdir(fold)[0]\n",
    "    dir_mod = fold+ls_mod\n",
    "    mod = h2o.load_model(dir_mod)\n",
    "    df_mod = pd.DataFrame(mod.actual_params.items(), columns =['parameter', 'value']).set_index('parameter').transpose()\n",
    "    result_mod.append( df_mod )\n",
    "    component.append( co )"
   ]
  },
  {
   "cell_type": "code",
   "execution_count": 298,
   "metadata": {},
   "outputs": [],
   "source": [
    "all_df_xgb_alm = pd.concat(result_mod)\n",
    "var_filt = ['ntrees', 'max_depth', 'min_child_weight','eta', 'subsample','colsample_bylevel','colsample_bytree','colsample_bynode','gamma','reg_lambda','reg_alpha','booster' ]\n",
    "final_result = all_df_xgb_alm.loc[:,var_filt]"
   ]
  },
  {
   "cell_type": "code",
   "execution_count": 299,
   "metadata": {},
   "outputs": [],
   "source": [
    "final_result.set_index([component],inplace=True)\n",
    "final_result.rename_axis('component', axis='columns', inplace=True)"
   ]
  },
  {
   "cell_type": "code",
   "execution_count": 302,
   "metadata": {},
   "outputs": [],
   "source": [
    "#final_result.to_excel('./results_model_xgb_almonds.xlsx')\n",
    "#final_result.to_excel('./results_model_xgb_leaves.xlsx')"
   ]
  },
  {
   "cell_type": "code",
   "execution_count": null,
   "metadata": {},
   "outputs": [],
   "source": []
  },
  {
   "cell_type": "markdown",
   "metadata": {},
   "source": [
    "# svm - sklearn"
   ]
  },
  {
   "cell_type": "code",
   "execution_count": 327,
   "metadata": {},
   "outputs": [],
   "source": [
    "component = []\n",
    "result_mod = []\n",
    "for co in os.listdir('../models/svm/almonds/'):\n",
    "    #print(os.listdir('../models/xgb/almonds/'+co) )\n",
    "    fold = '../models/svm/almonds/'+co+'/'\n",
    "    ls_mod = os.listdir(fold)[0]\n",
    "    dir_mod = fold+ls_mod\n",
    "    #print(dir_mod)\n",
    "    with open(dir_mod, 'rb') as file:\n",
    "        mod = pickle.load(file)\n",
    "        df_mod = pd.DataFrame.from_dict( {par: [val] for par, val in mod.get_params().items()} )\n",
    "        result_mod.append( df_mod )\n",
    "        component.append( co )"
   ]
  },
  {
   "cell_type": "code",
   "execution_count": 336,
   "metadata": {},
   "outputs": [],
   "source": [
    "all_svm_alm = pd.concat(result_mod)\n",
    "var_filt = [ 'C','epsilon','kernel' ]\n",
    "final_result = all_svm_alm.loc[:,var_filt]\n",
    "final_result.set_index([component],inplace=True)\n",
    "final_result.rename_axis('component', axis='columns', inplace=True)"
   ]
  },
  {
   "cell_type": "code",
   "execution_count": 338,
   "metadata": {},
   "outputs": [],
   "source": [
    "#final_result.to_excel('./results_model_svm_almonds.xlsx')"
   ]
  },
  {
   "cell_type": "code",
   "execution_count": null,
   "metadata": {},
   "outputs": [],
   "source": []
  },
  {
   "cell_type": "code",
   "execution_count": null,
   "metadata": {},
   "outputs": [],
   "source": []
  }
 ],
 "metadata": {
  "colab": {
   "name": "upload_models.ipynb",
   "provenance": []
  },
  "kernelspec": {
   "display_name": "Python 3 (ipykernel)",
   "language": "python",
   "name": "python3"
  },
  "language_info": {
   "codemirror_mode": {
    "name": "ipython",
    "version": 3
   },
   "file_extension": ".py",
   "mimetype": "text/x-python",
   "name": "python",
   "nbconvert_exporter": "python",
   "pygments_lexer": "ipython3",
   "version": "3.8.10"
  }
 },
 "nbformat": 4,
 "nbformat_minor": 1
}
