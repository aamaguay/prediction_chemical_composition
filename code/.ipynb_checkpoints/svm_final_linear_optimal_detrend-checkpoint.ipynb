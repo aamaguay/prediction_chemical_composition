{
 "cells": [
  {
   "cell_type": "code",
   "execution_count": 2,
   "id": "48307bbd",
   "metadata": {
    "id": "48307bbd"
   },
   "outputs": [],
   "source": [
    "import pandas as pd\n",
    "from sklearn.svm import SVR\n",
    "from sklearn.preprocessing import MinMaxScaler\n",
    "from sklearn.metrics import mean_squared_error\n",
    "from sklearn.metrics import r2_score\n",
    "from sklearn.linear_model import SGDRegressor\n",
    "from sklearn.model_selection import GridSearchCV\n",
    "from sklearn.model_selection import RandomizedSearchCV\n",
    "import numpy as np\n",
    "import matplotlib.pyplot as plt\n",
    "import statsmodels.api as sm\n",
    "import pickle"
   ]
  },
  {
   "cell_type": "markdown",
   "id": "30217776",
   "metadata": {
    "id": "30217776"
   },
   "source": [
    "# Import data set"
   ]
  },
  {
   "cell_type": "code",
   "execution_count": 224,
   "id": "87ba9aa6",
   "metadata": {
    "id": "87ba9aa6"
   },
   "outputs": [],
   "source": [
    "df = pd.read_csv(\"Databases/Leaves/Train_test_dataset/data_final_As.csv\", sep=';').iloc[:,2:]\n",
    "id_train = df.id_train\n",
    "df = df.iloc[:,df.columns != 'id_train']\n",
    "#Detrend split\n",
    "df_y = df.iloc[:,df.columns == 'As']\n",
    "df_x = df.iloc[:,1:]"
   ]
  },
  {
   "cell_type": "markdown",
   "id": "b6345620",
   "metadata": {},
   "source": [
    "## Optimal detrending selection"
   ]
  },
  {
   "cell_type": "code",
   "execution_count": 225,
   "id": "63d476ab",
   "metadata": {},
   "outputs": [
    {
     "name": "stdout",
     "output_type": "stream",
     "text": [
      "The r2 of cuadratic detrending is:  0.9765498110826645\n",
      "The r2 of cubic detrending is:  0.9802030976778431\n"
     ]
    }
   ],
   "source": [
    "empty_cuadratic = []\n",
    "empty_cubic = []\n",
    "for i in range(len(df_x)) : \n",
    "    df_it2 = pd.DataFrame((df_x.iloc[i,:]))\n",
    "    trend = pd.DataFrame(np.arange(1,len(df_it2)+1))\n",
    "    trend2=pd.DataFrame(np.square(trend))\n",
    "    trend3=pd.DataFrame(np.square(trend)*trend)\n",
    "    result = pd.DataFrame(np.concatenate([df_it2,trend, trend2, trend3], axis=1))\n",
    "    #OLS\n",
    "    y=result[0]\n",
    "    x2=result[[1,2]]\n",
    "    x3=result[[1,2,3]]\n",
    "    #Cuadratic\n",
    "    model2 = sm.OLS(y, x2).fit()\n",
    "    #Cubic\n",
    "    model3 = sm.OLS(y, x3).fit()\n",
    "    #Saving adj r2 results\n",
    "    empty_cuadratic.append(model2.rsquared_adj)\n",
    "    empty_cubic.append(model3.rsquared_adj)\n",
    "#Results\n",
    "results_2 = pd.DataFrame(empty_cuadratic)    \n",
    "results_3 = pd.DataFrame(empty_cubic)    \n",
    "results_r2 = pd.concat([results_2,results_3], axis=1)\n",
    "results_r2.columns =['r2_cuadratic', 'r2_cubic']\n",
    "#Summary r2\n",
    "print('The r2 of cuadratic detrending is: ', results_r2[\"r2_cuadratic\"].mean() )\n",
    "print('The r2 of cubic detrending is: ', results_r2[\"r2_cubic\"].mean() )    "
   ]
  },
  {
   "cell_type": "markdown",
   "id": "551c1387",
   "metadata": {},
   "source": [
    "## Detrending "
   ]
  },
  {
   "cell_type": "code",
   "execution_count": 226,
   "id": "d75bd5ed",
   "metadata": {},
   "outputs": [],
   "source": [
    "empty = np.empty((0,700))\n",
    "for i in range(len(df_x)) : \n",
    "   df_it2 = pd.DataFrame((df_x.iloc[i,:]))\n",
    "   trend = pd.DataFrame(np.arange(1,len(df_it2)+1))\n",
    "   trend2=pd.DataFrame(np.square(trend))\n",
    "   trend3=pd.DataFrame(np.square(trend)*trend)\n",
    "   result = pd.DataFrame(np.concatenate([df_it2,trend, trend2, trend3], axis=1))\n",
    "   #detrend estimation \n",
    "   y=result[0]\n",
    "   x2=result[[1,2]]\n",
    "   x3=result[[1,2,3]]\n",
    "   model = sm.OLS(y, x3).fit()\n",
    "   uhat=pd.DataFrame(model.resid).transpose()\n",
    "   empty = np.concatenate([empty, uhat],  axis = 0)\n",
    "df_x_detrend = pd.DataFrame(empty)\n",
    "#Final dataset\n",
    "df = pd.concat([df_y,df_x_detrend], axis=1)"
   ]
  },
  {
   "cell_type": "code",
   "execution_count": 227,
   "id": "330892a2",
   "metadata": {},
   "outputs": [],
   "source": [
    "df_train_wo_scaled = df[id_train == 1]\n",
    "df_test_wo_scaled = df[id_train == 0]\n",
    "\n",
    "scaler_X = MinMaxScaler(feature_range=(0, 1))\n",
    "scaler_y = MinMaxScaler(feature_range=(0, 1))\n",
    "X_sc = scaler_X.fit_transform(df.iloc[:,1:])\n",
    "y_sc = scaler_y.fit_transform((df.iloc[:,0]).to_numpy().reshape(-1,1))\n",
    "\n",
    "train_x_wo_scal, train_y_wo_scal, test_x_wo_scal, test_y_wo_scal = df_train_wo_scaled.loc[:,df_train_wo_scaled.columns != 'As'].values, df_train_wo_scaled.loc[:,df_train_wo_scaled.columns == 'As'].values,df_test_wo_scaled.loc[:,df_test_wo_scaled.columns != 'As'].values,df_test_wo_scaled.loc[:,df_test_wo_scaled.columns == 'As'].values     \n",
    "train_x_w_scal, train_y_w_scal, test_x_w_scal, test_y_w_scal = X_sc[id_train ==1] , y_sc[id_train == 1] , X_sc[id_train == 0] ,y_sc[id_train == 0]   \n",
    "train_y_w_scal = train_y_w_scal.flatten()\n",
    "test_y_w_scal = test_y_w_scal.flatten()\n",
    "\n",
    "train_y_wo_scal = train_y_wo_scal.flatten()\n",
    "test_y_wo_scal = test_y_wo_scal.flatten()\n"
   ]
  },
  {
   "cell_type": "code",
   "execution_count": 228,
   "id": "41ed9e3b",
   "metadata": {
    "id": "41ed9e3b"
   },
   "outputs": [],
   "source": [
    "values_c = list(np.round( np.arange(0.1,1,0.05), 4) ) + list(np.round( np.arange(1,10000,100), 4) )                                  \n",
    "error_test, error_train, val_c = [], [], []"
   ]
  },
  {
   "cell_type": "code",
   "execution_count": 229,
   "id": "21d8c4a1",
   "metadata": {
    "id": "21d8c4a1",
    "outputId": "8cd280a0-3041-49c7-9c5b-ae8728668122"
   },
   "outputs": [
    {
     "name": "stdout",
     "output_type": "stream",
     "text": [
      "length values:  118\n",
      "iteration:  1\n",
      "iteration:  2\n",
      "iteration:  3\n",
      "iteration:  4\n",
      "iteration:  5\n",
      "iteration:  6\n",
      "iteration:  7\n",
      "iteration:  8\n",
      "iteration:  9\n",
      "iteration:  10\n",
      "iteration:  11\n",
      "iteration:  12\n",
      "iteration:  13\n",
      "iteration:  14\n",
      "iteration:  15\n",
      "iteration:  16\n",
      "iteration:  17\n",
      "iteration:  18\n",
      "iteration:  19\n",
      "iteration:  20\n",
      "iteration:  21\n",
      "iteration:  22\n",
      "iteration:  23\n",
      "iteration:  24\n",
      "iteration:  25\n",
      "iteration:  26\n",
      "iteration:  27\n",
      "iteration:  28\n",
      "iteration:  29\n",
      "iteration:  30\n",
      "iteration:  31\n",
      "iteration:  32\n",
      "iteration:  33\n",
      "iteration:  34\n",
      "iteration:  35\n",
      "iteration:  36\n",
      "iteration:  37\n",
      "iteration:  38\n",
      "iteration:  39\n",
      "iteration:  40\n",
      "iteration:  41\n",
      "iteration:  42\n",
      "iteration:  43\n",
      "iteration:  44\n",
      "iteration:  45\n",
      "iteration:  46\n",
      "iteration:  47\n",
      "iteration:  48\n",
      "iteration:  49\n",
      "iteration:  50\n",
      "iteration:  51\n",
      "iteration:  52\n",
      "iteration:  53\n",
      "iteration:  54\n",
      "iteration:  55\n",
      "iteration:  56\n",
      "iteration:  57\n",
      "iteration:  58\n",
      "iteration:  59\n",
      "iteration:  60\n",
      "iteration:  61\n",
      "iteration:  62\n",
      "iteration:  63\n",
      "iteration:  64\n",
      "iteration:  65\n",
      "iteration:  66\n",
      "iteration:  67\n",
      "iteration:  68\n",
      "iteration:  69\n",
      "iteration:  70\n",
      "iteration:  71\n",
      "iteration:  72\n",
      "iteration:  73\n",
      "iteration:  74\n",
      "iteration:  75\n",
      "iteration:  76\n",
      "iteration:  77\n",
      "iteration:  78\n",
      "iteration:  79\n",
      "iteration:  80\n",
      "iteration:  81\n",
      "iteration:  82\n",
      "iteration:  83\n",
      "iteration:  84\n",
      "iteration:  85\n",
      "iteration:  86\n",
      "iteration:  87\n",
      "iteration:  88\n",
      "iteration:  89\n",
      "iteration:  90\n",
      "iteration:  91\n",
      "iteration:  92\n",
      "iteration:  93\n",
      "iteration:  94\n",
      "iteration:  95\n",
      "iteration:  96\n",
      "iteration:  97\n",
      "iteration:  98\n",
      "iteration:  99\n",
      "iteration:  100\n",
      "iteration:  101\n",
      "iteration:  102\n",
      "iteration:  103\n",
      "iteration:  104\n",
      "iteration:  105\n",
      "iteration:  106\n",
      "iteration:  107\n",
      "iteration:  108\n",
      "iteration:  109\n",
      "iteration:  110\n",
      "iteration:  111\n",
      "iteration:  112\n",
      "iteration:  113\n",
      "iteration:  114\n",
      "iteration:  115\n",
      "iteration:  116\n",
      "iteration:  117\n",
      "iteration:  118\n"
     ]
    }
   ],
   "source": [
    "print('length values: ', len(values_c))\n",
    "for i,c in enumerate(values_c):\n",
    "    print('iteration: ', i+1)\n",
    "    svm_linear_model = SVR(kernel='linear', degree=3, gamma='scale', \n",
    "                       coef0=0.0, tol=0.001, C=c, epsilon=0.1, \n",
    "                       shrinking=True, cache_size=200, verbose=False, max_iter=- 1)\n",
    "    svm_linear_model.fit( train_x_wo_scal  , train_y_wo_scal)\n",
    "    y_hat_train_default = svm_linear_model.predict(train_x_wo_scal)\n",
    "    y_hat_test_default = svm_linear_model.predict(test_x_wo_scal)\n",
    "    rmse_train_default = mean_squared_error( train_y_wo_scal , y_hat_train_default , squared=False)\n",
    "    rmse_test_default = mean_squared_error( test_y_wo_scal , y_hat_test_default , squared=False)\n",
    "    error_train.append( rmse_train_default )\n",
    "    error_test.append( rmse_test_default )\n",
    "    val_c.append( c )\n",
    "    "
   ]
  },
  {
   "cell_type": "code",
   "execution_count": 235,
   "id": "a6560094",
   "metadata": {
    "id": "a6560094",
    "outputId": "26f1e9cf-250f-45d3-bacc-3bc6ed26f892"
   },
   "outputs": [
    {
     "data": {
      "image/png": "[encoded data removed]",
      "text/plain": [
       "<Figure size 720x864 with 2 Axes>"
      ]
     },
     "metadata": {
      "needs_background": "light"
     },
     "output_type": "display_data"
    }
   ],
   "source": [
    "\n",
    "fig, ((ax1, ax2) )=  plt.subplots(2, 1, sharex=False, sharey= False, \n",
    "                                                  figsize=(10,12),gridspec_kw=dict( hspace=0.2, wspace=0.15 ))\n",
    "\n",
    "\n",
    "ax1.plot(val_c, error_test)\n",
    "ax1.plot(val_c, error_train, linestyle = '--')\n",
    "ax1.legend( ['test','train'],prop={'size': 10},ncol=1,bbox_to_anchor=(0.95, 1))\n",
    "\n",
    "ax2.plot(val_c[:175], error_test[:175])\n",
    "ax2.plot(val_c[:175], error_train[:175], linestyle = '--')\n",
    "ax2.legend( ['test','train'],prop={'size': 10},ncol=1,bbox_to_anchor=(0.95, 1))\n",
    "\n",
    "\n",
    "plt.show()"
   ]
  },
  {
   "cell_type": "code",
   "execution_count": 236,
   "id": "fcbaa17c",
   "metadata": {
    "id": "fcbaa17c"
   },
   "outputs": [],
   "source": [
    "results_df = pd.DataFrame( {'c': values_c, 'error_test':error_test })\n",
    "c_optim = results_df.loc[results_df.error_test.idxmin(),'c']"
   ]
  },
  {
   "cell_type": "code",
   "execution_count": 237,
   "id": "2b451f1d",
   "metadata": {
    "id": "2b451f1d"
   },
   "outputs": [],
   "source": [
    "best_model = SVR(kernel='linear', degree=2, gamma='scale', \n",
    "                 coef0=0.0, tol=0.001, C=c_optim, epsilon= 0.1, \n",
    "                 shrinking=True, cache_size=200, verbose=False, max_iter=- 1)"
   ]
  },
  {
   "cell_type": "code",
   "execution_count": 238,
   "id": "09df0161",
   "metadata": {
    "id": "09df0161",
    "outputId": "61941af4-a510-47eb-eeaf-edf75c7215da"
   },
   "outputs": [
    {
     "data": {
      "text/plain": [
       "SVR(C=101.0, degree=2, kernel='linear')"
      ]
     },
     "execution_count": 238,
     "metadata": {},
     "output_type": "execute_result"
    }
   ],
   "source": [
    "best_model.fit( train_x_wo_scal  , train_y_wo_scal)"
   ]
  },
  {
   "cell_type": "code",
   "execution_count": 239,
   "id": "b0ce5e6b",
   "metadata": {
    "id": "b0ce5e6b",
    "outputId": "ab5c498c-8ab2-4431-e56e-b76261f70e8d"
   },
   "outputs": [
    {
     "name": "stdout",
     "output_type": "stream",
     "text": [
      "rmse of train is:  0.09377113943208852\n",
      "rmse of test is:  0.055388718426737406\n"
     ]
    }
   ],
   "source": [
    "print('rmse of train is: ', mean_squared_error( train_y_wo_scal , best_model.predict(train_x_wo_scal) , squared=False)  )\n",
    "print('rmse of test is: ', mean_squared_error( test_y_wo_scal , best_model.predict(test_x_wo_scal) , squared=False) )\n"
   ]
  },
  {
   "cell_type": "code",
   "execution_count": 240,
   "id": "00713a62",
   "metadata": {
    "id": "899ef8d8",
    "outputId": "eda8b447-08b1-41e1-d187-d8574a1261c0"
   },
   "outputs": [
    {
     "name": "stdout",
     "output_type": "stream",
     "text": [
      "train r2: 0.1063278130451576,\n",
      "test r2: -0.27783068654485854\n"
     ]
    }
   ],
   "source": [
    "print(\"train r2: %s,\\ntest r2: %s\" %\n",
    "      ( r2_score(train_y_wo_scal, best_model.predict(train_x_wo_scal) ), \n",
    "       r2_score(test_y_wo_scal, best_model.predict(test_x_wo_scal)  )  ) )"
   ]
  },
  {
   "cell_type": "markdown",
   "id": "7b238de1",
   "metadata": {
    "id": "7b238de1"
   },
   "source": [
    "# RandGrid search with C & epsilon"
   ]
  },
  {
   "cell_type": "code",
   "execution_count": 241,
   "id": "22d55f47",
   "metadata": {
    "id": "22d55f47"
   },
   "outputs": [],
   "source": [
    "tuned_parameters_v2 = [ {\"C\": list(np.round( np.arange(0.1,1,0.05), 4) ) + list(np.round( np.arange(1,90000,100), 4)),\n",
    "                        'epsilon': list(np.round( np.arange(0.1,1,0.05), 4) ) + list(np.round( np.arange(1,1500,1), 4) )} ]   \n",
    "\n",
    "new_model_v2 = SVR(kernel='linear', degree=2, gamma='scale', \n",
    "                       coef0=0.0, tol=0.001, C=1.0, epsilon=0.1, \n",
    "                       shrinking=True, cache_size=200, verbose=False, max_iter=- 1)"
   ]
  },
  {
   "cell_type": "code",
   "execution_count": 242,
   "id": "775bea09",
   "metadata": {
    "id": "775bea09"
   },
   "outputs": [],
   "source": [
    "grid_search_v2 = RandomizedSearchCV(estimator = new_model_v2, param_distributions = tuned_parameters_v2 , \n",
    "                                    n_iter= 900,\n",
    "                                    scoring= 'neg_root_mean_squared_error', \n",
    "                                    n_jobs= -1, refit=True, cv= 2, verbose= 2, pre_dispatch='2*n_jobs', \n",
    "                                    error_score=np.nan, return_train_score=False)"
   ]
  },
  {
   "cell_type": "code",
   "execution_count": 243,
   "id": "a8747150",
   "metadata": {
    "id": "a8747150",
    "outputId": "97fbb69f-355f-4944-e154-1e76b2d36d9e"
   },
   "outputs": [
    {
     "name": "stdout",
     "output_type": "stream",
     "text": [
      "Fitting 2 folds for each of 900 candidates, totalling 1800 fits\n"
     ]
    },
    {
     "data": {
      "text/plain": [
       "RandomizedSearchCV(cv=2, estimator=SVR(degree=2, kernel='linear'), n_iter=900,\n",
       "                   n_jobs=-1,\n",
       "                   param_distributions=[{'C': [0.1, 0.15, 0.2, 0.25, 0.3, 0.35,\n",
       "                                               0.4, 0.45, 0.5, 0.55, 0.6, 0.65,\n",
       "                                               0.7, 0.75, 0.8, 0.85, 0.9, 0.95,\n",
       "                                               1, 101, 201, 301, 401, 501, 601,\n",
       "                                               701, 801, 901, 1001, 1101, ...],\n",
       "                                         'epsilon': [0.1, 0.15, 0.2, 0.25, 0.3,\n",
       "                                                     0.35, 0.4, 0.45, 0.5, 0.55,\n",
       "                                                     0.6, 0.65, 0.7, 0.75, 0.8,\n",
       "                                                     0.85, 0.9, 0.95, 1, 2, 3,\n",
       "                                                     4, 5, 6, 7, 8, 9, 10, 11,\n",
       "                                                     12, ...]}],\n",
       "                   scoring='neg_root_mean_squared_error', verbose=2)"
      ]
     },
     "execution_count": 243,
     "metadata": {},
     "output_type": "execute_result"
    }
   ],
   "source": [
    "grid_search_v2.fit(train_x_wo_scal, train_y_wo_scal)"
   ]
  },
  {
   "cell_type": "code",
   "execution_count": 245,
   "id": "a9171a7a",
   "metadata": {
    "id": "a9171a7a",
    "outputId": "57d2af63-5285-40f5-a354-01ae652a9320"
   },
   "outputs": [
    {
     "data": {
      "text/plain": [
       "SVR(C=63301, degree=2, kernel='linear')"
      ]
     },
     "execution_count": 245,
     "metadata": {},
     "output_type": "execute_result"
    }
   ],
   "source": [
    "best_sgd_v2 = grid_search_v2.best_estimator_\n",
    "best_sgd_v2"
   ]
  },
  {
   "cell_type": "code",
   "execution_count": 246,
   "id": "48214a00",
   "metadata": {
    "id": "48214a00",
    "outputId": "654b3ebf-946f-422d-a93d-cb145e1ed6ac"
   },
   "outputs": [
    {
     "name": "stdout",
     "output_type": "stream",
     "text": [
      "train rmse: 0.08404388688807155,\n",
      " t7est rmse: 0.08653283506616093\n"
     ]
    }
   ],
   "source": [
    "print(\"train rmse: %s,\\n t7est rmse: %s\" % \n",
    "      ( mean_squared_error( train_y_wo_scal, best_sgd_v2.predict(train_x_wo_scal) ,squared=False), \n",
    "       mean_squared_error( test_y_wo_scal, best_sgd_v2.predict(test_x_wo_scal) ,squared=False) ) )"
   ]
  },
  {
   "cell_type": "code",
   "execution_count": 247,
   "id": "b24de2a2",
   "metadata": {
    "id": "7ea240e0",
    "outputId": "d2592c2f-2f56-46f6-9b7b-5b3c43403ec7"
   },
   "outputs": [
    {
     "name": "stdout",
     "output_type": "stream",
     "text": [
      "train r2: 0.2821195694046327,\n",
      "test r2: -2.1188360493714495\n"
     ]
    }
   ],
   "source": [
    "print(\"train r2: %s,\\ntest r2: %s\" %\n",
    "      ( r2_score(train_y_wo_scal, best_sgd_v2.predict(train_x_wo_scal)),\n",
    "       r2_score(test_y_wo_scal, best_sgd_v2.predict(test_x_wo_scal)) ))"
   ]
  },
  {
   "cell_type": "markdown",
   "id": "PqPZZUK8x2eC",
   "metadata": {
    "id": "PqPZZUK8x2eC"
   },
   "source": [
    "# Save & load model "
   ]
  },
  {
   "cell_type": "code",
   "execution_count": 248,
   "id": "8TEeY9dVx7S8",
   "metadata": {
    "id": "8TEeY9dVx7S8"
   },
   "outputs": [],
   "source": [
    "Pkl_Filename = \"C:/Users/User/Desktop/ARPG/Chemicals-Project/Results/Leaves/SVM/Cuadratic_cubic_detrending/svm_best_As.h5\"  \n",
    "\n",
    "with open(Pkl_Filename, 'wb') as file:  \n",
    "    pickle.dump(best_model, file)"
   ]
  },
  {
   "cell_type": "code",
   "execution_count": 205,
   "id": "98b160bd",
   "metadata": {
    "id": "T03I_Q9myA6-"
   },
   "outputs": [
    {
     "data": {
      "text/plain": [
       "SVR(C=5412001, degree=2, epsilon=18, kernel='linear')"
      ]
     },
     "execution_count": 205,
     "metadata": {},
     "output_type": "execute_result"
    }
   ],
   "source": [
    "with open(\"C:/Users/User/Desktop/ARPG/Chemicals-Project/Results/Leaves/SVM/Linear_detrending/svm_best_Al.h5\", 'rb') as file:  \n",
    "    v1_Model = pickle.load(file)\n",
    "v1_Model"
   ]
  },
  {
   "cell_type": "markdown",
   "id": "e4c0e2bf",
   "metadata": {},
   "source": [
    "# Figures of the best model"
   ]
  },
  {
   "cell_type": "code",
   "execution_count": 472,
   "id": "cd537e64",
   "metadata": {},
   "outputs": [
    {
     "data": {
      "image/png": "[encoded data removed]",
      "text/plain": [
       "<Figure size 1080x720 with 2 Axes>"
      ]
     },
     "metadata": {
      "needs_background": "light"
     },
     "output_type": "display_data"
    }
   ],
   "source": [
    "y_hat_train = best_model.predict(train_x_wo_scal)\n",
    "y_hat_test = best_model.predict(test_x_wo_scal)\n",
    "\n",
    "fig, ((ax1, ax2))=  plt.subplots(1, 2, sharex=False, sharey= False, figsize=(15,10),gridspec_kw=dict( wspace=0.3,hspace=0.35))\n",
    "ax1.scatter(y =  train_y_wo_scal , x = y_hat_train )\n",
    "ax1.set_title(\"Train data set \",size=15)\n",
    "ax1.set_xlabel('Predictions',size=15)\n",
    "ax1.set_ylabel('Real values',size=15)\n",
    "\n",
    "ax2.scatter(y = test_y_wo_scal, x = y_hat_test )\n",
    "ax2.set_title(\"Test data set \",size=15)\n",
    "ax2.set_xlabel('Predictions',size=15)\n",
    "ax2.set_ylabel('Real values',size=15)\n",
    "plt.savefig('SVM_train_test_Zn.png', bbox_inches='tight', dpi=100)\n",
    "plt.show()"
   ]
  }
 ],
 "metadata": {
  "colab": {
   "collapsed_sections": [],
   "name": "svm_final_w_optimal_value.ipynb",
   "provenance": []
  },
  "kernelspec": {
   "display_name": "Python 3 (ipykernel)",
   "language": "python",
   "name": "python3"
  },
  "language_info": {
   "codemirror_mode": {
    "name": "ipython",
    "version": 3
   },
   "file_extension": ".py",
   "mimetype": "text/x-python",
   "name": "python",
   "nbconvert_exporter": "python",
   "pygments_lexer": "ipython3",
   "version": "3.8.10"
  }
 },
 "nbformat": 4,
 "nbformat_minor": 5
}
